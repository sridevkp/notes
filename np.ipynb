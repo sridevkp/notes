{
 "cells": [
  {
   "cell_type": "code",
   "execution_count": 1,
   "id": "2928e303",
   "metadata": {},
   "outputs": [],
   "source": [
    "import numpy as np"
   ]
  },
  {
   "cell_type": "code",
   "execution_count": 9,
   "id": "c30e73c5",
   "metadata": {},
   "outputs": [
    {
     "name": "stdout",
     "output_type": "stream",
     "text": [
      "[1 4 7]\n",
      "[ 1.    3.25  5.5   7.75 10.  ]\n"
     ]
    }
   ],
   "source": [
    "x = np.arange(1,10,3)\n",
    "print(x)\n",
    "y = np.linspace(1, 10, 5)  \n",
    "print(y)\n"
   ]
  },
  {
   "cell_type": "code",
   "execution_count": 10,
   "id": "60a97f59",
   "metadata": {},
   "outputs": [
    {
     "name": "stdout",
     "output_type": "stream",
     "text": [
      "(1, 1.0)\n",
      "(4, 1.0)\n",
      "(7, 1.0)\n",
      "(1, 3.25)\n",
      "(4, 3.25)\n",
      "(7, 3.25)\n",
      "(1, 5.5)\n",
      "(4, 5.5)\n",
      "(7, 5.5)\n",
      "(1, 7.75)\n",
      "(4, 7.75)\n",
      "(7, 7.75)\n",
      "(1, 10.0)\n",
      "(4, 10.0)\n",
      "(7, 10.0)\n"
     ]
    }
   ],
   "source": [
    "cords = np.meshgrid(x, y)\n",
    "for i in range(len(cords[0])):\n",
    "    for j in range(len(cords[0][i])):\n",
    "        print(f\"({cords[0][i][j]}, {cords[1][i][j]})\")"
   ]
  },
  {
   "cell_type": "code",
   "execution_count": 19,
   "id": "718512a6",
   "metadata": {},
   "outputs": [
    {
     "name": "stdout",
     "output_type": "stream",
     "text": [
      "(5, 3) 2 15\n"
     ]
    }
   ],
   "source": [
    "print(cords[0].shape, cords[1].ndim, cords[1].size)"
   ]
  },
  {
   "cell_type": "code",
   "execution_count": 147,
   "id": "2c24cc54",
   "metadata": {},
   "outputs": [
    {
     "name": "stdout",
     "output_type": "stream",
     "text": [
      "[[1 2 3 4]\n",
      " [4 5 6 7]]\n",
      "[[ 1  2]\n",
      " [ 4  5]\n",
      " [ 9 10]\n",
      " [13 14]]\n"
     ]
    }
   ],
   "source": [
    "mat = np.array([[1, 2, 3, 4], [4, 5, 6, 7],[9, 10, 11, 12],[13, 14, 15, 16]])\n",
    "print(mat[0:2,])  # Row range select\n",
    "print(mat[:,0:2]) # Column range select"
   ]
  },
  {
   "cell_type": "code",
   "execution_count": 148,
   "id": "ff86195e",
   "metadata": {},
   "outputs": [
    {
     "data": {
      "text/plain": [
       "array([[ 1,  3],\n",
       "       [ 4,  6],\n",
       "       [ 9, 11],\n",
       "       [13, 15]])"
      ]
     },
     "execution_count": 148,
     "metadata": {},
     "output_type": "execute_result"
    }
   ],
   "source": [
    "mat[:,[0, 2]]  # Select cols 0 and 2\n"
   ]
  },
  {
   "cell_type": "markdown",
   "id": "ed95a487",
   "metadata": {},
   "source": [
    "# Create"
   ]
  },
  {
   "cell_type": "code",
   "execution_count": 54,
   "id": "3127fdc7",
   "metadata": {},
   "outputs": [
    {
     "data": {
      "text/plain": [
       "array([[0., 0., 0.],\n",
       "       [0., 0., 0.]])"
      ]
     },
     "execution_count": 54,
     "metadata": {},
     "output_type": "execute_result"
    }
   ],
   "source": [
    "np.zeros((2, 3)) # Create a 2x3 matrix of zeros"
   ]
  },
  {
   "cell_type": "code",
   "execution_count": 53,
   "id": "20b33b51",
   "metadata": {},
   "outputs": [
    {
     "data": {
      "text/plain": [
       "array([[[1., 1., 1., 1., 1.],\n",
       "        [1., 1., 1., 1., 1.],\n",
       "        [1., 1., 1., 1., 1.]],\n",
       "\n",
       "       [[1., 1., 1., 1., 1.],\n",
       "        [1., 1., 1., 1., 1.],\n",
       "        [1., 1., 1., 1., 1.]]])"
      ]
     },
     "execution_count": 53,
     "metadata": {},
     "output_type": "execute_result"
    }
   ],
   "source": [
    "np.ones((2, 3, 5)) "
   ]
  },
  {
   "cell_type": "code",
   "execution_count": 58,
   "id": "45c3eefe",
   "metadata": {},
   "outputs": [
    {
     "data": {
      "text/plain": [
       "array([[5, 5, 5, 5, 5],\n",
       "       [5, 5, 5, 5, 5]])"
      ]
     },
     "execution_count": 58,
     "metadata": {},
     "output_type": "execute_result"
    }
   ],
   "source": [
    "np.full((2, 5), 5) # Create a 2x3 matrix filled with 5"
   ]
  },
  {
   "cell_type": "code",
   "execution_count": 52,
   "id": "a45bb459",
   "metadata": {},
   "outputs": [
    {
     "data": {
      "text/plain": [
       "array([[3, 6, 3, 2],\n",
       "       [2, 2, 2, 8],\n",
       "       [6, 7, 5, 5],\n",
       "       [4, 1, 7, 4]])"
      ]
     },
     "execution_count": 52,
     "metadata": {},
     "output_type": "execute_result"
    }
   ],
   "source": [
    "np.random.seed(412)\n",
    "x = np.random.randint(1, 10, size=(4, 4))\n",
    "x"
   ]
  },
  {
   "cell_type": "code",
   "execution_count": 59,
   "id": "5b09f8fd",
   "metadata": {},
   "outputs": [
    {
     "data": {
      "text/plain": [
       "array([[0.41050348, 0.79019146, 0.74769137],\n",
       "       [0.41515395, 0.49400242, 0.91715966]])"
      ]
     },
     "execution_count": 59,
     "metadata": {},
     "output_type": "execute_result"
    }
   ],
   "source": [
    "np.random.random_sample((2, 3)) # Create a 2x3 matrix with random floats between 0 and 1"
   ]
  },
  {
   "cell_type": "code",
   "execution_count": 60,
   "id": "ac4061ae",
   "metadata": {},
   "outputs": [
    {
     "data": {
      "text/plain": [
       "array([[1., 0., 0.],\n",
       "       [0., 1., 0.],\n",
       "       [0., 0., 1.]])"
      ]
     },
     "execution_count": 60,
     "metadata": {},
     "output_type": "execute_result"
    }
   ],
   "source": [
    "np.identity(3) # Create a 3x3 identity matrix"
   ]
  },
  {
   "cell_type": "markdown",
   "id": "0e333705",
   "metadata": {},
   "source": [
    "# Math"
   ]
  },
  {
   "cell_type": "code",
   "execution_count": 78,
   "id": "70c035af",
   "metadata": {},
   "outputs": [
    {
     "data": {
      "text/plain": [
       "array([[ 0.14112001, -0.2794155 ,  0.14112001,  0.90929743],\n",
       "       [ 0.90929743,  0.90929743,  0.90929743,  0.98935825],\n",
       "       [-0.2794155 ,  0.6569866 , -0.95892427, -0.95892427],\n",
       "       [-0.7568025 ,  0.84147098,  0.6569866 , -0.7568025 ]])"
      ]
     },
     "execution_count": 78,
     "metadata": {},
     "output_type": "execute_result"
    }
   ],
   "source": [
    "np.sin(x) # Calculate sine of pi/2"
   ]
  },
  {
   "cell_type": "markdown",
   "id": "2f4d9a49",
   "metadata": {},
   "source": [
    "# Linear algebra"
   ]
  },
  {
   "cell_type": "code",
   "execution_count": 84,
   "id": "1203f045",
   "metadata": {},
   "outputs": [
    {
     "data": {
      "text/plain": [
       "array([[ 78],\n",
       "       [104],\n",
       "       [142],\n",
       "       [ 97]])"
      ]
     },
     "execution_count": 84,
     "metadata": {},
     "output_type": "execute_result"
    }
   ],
   "source": [
    "y = np.random.randint(1, 10, size=(4,1))\n",
    "np.matmul(x, y) # Matrix multiplication"
   ]
  },
  {
   "cell_type": "code",
   "execution_count": 85,
   "id": "6f4b894a",
   "metadata": {},
   "outputs": [
    {
     "data": {
      "text/plain": [
       "array([[-6.66666667e-01, -1.71497585e-01,  6.37681159e-01,\n",
       "        -1.20772947e-01],\n",
       "       [ 3.33333333e-01,  3.14009662e-02, -1.44927536e-01,\n",
       "        -4.83091787e-02],\n",
       "       [ 3.33333333e-01,  2.41545894e-03, -3.18840580e-01,\n",
       "         2.27053140e-01],\n",
       "       [-2.35989435e-17,  1.59420290e-01, -4.34782609e-02,\n",
       "        -1.44927536e-02]])"
      ]
     },
     "execution_count": 85,
     "metadata": {},
     "output_type": "execute_result"
    }
   ],
   "source": [
    "np.linalg.inv(x) # Inverse of a matrix"
   ]
  },
  {
   "cell_type": "code",
   "execution_count": 86,
   "id": "e02debd3",
   "metadata": {},
   "outputs": [
    {
     "data": {
      "text/plain": [
       "-413.99999999999994"
      ]
     },
     "execution_count": 86,
     "metadata": {},
     "output_type": "execute_result"
    }
   ],
   "source": [
    "np.linalg.det(x) # Determinant of a matrix"
   ]
  },
  {
   "cell_type": "code",
   "execution_count": null,
   "id": "5384367b",
   "metadata": {},
   "outputs": [
    {
     "data": {
      "text/plain": [
       "(array([16.90782597+0.j        , -1.05494872+0.j        ,\n",
       "        -0.92643863+4.72779404j, -0.92643863-4.72779404j]),\n",
       " array([[-0.39031028+0.j        , -0.82355032+0.j        ,\n",
       "         -0.24774447-0.40093653j, -0.24774447+0.40093653j],\n",
       "        [-0.41094191+0.j        ,  0.34485432+0.j        ,\n",
       "          0.6272189 +0.j        ,  0.6272189 -0.j        ],\n",
       "        [-0.6505234 +0.j        ,  0.44877252+0.j        ,\n",
       "         -0.22400297-0.21553634j, -0.22400297+0.21553634j],\n",
       "        [-0.50557289+0.j        , -0.03799458+0.j        ,\n",
       "         -0.11150284+0.52478844j, -0.11150284-0.52478844j]]))"
      ]
     },
     "execution_count": 87,
     "metadata": {},
     "output_type": "execute_result"
    }
   ],
   "source": [
    "np.linalg.eig(x) # Eigen values of a matrix"
   ]
  },
  {
   "cell_type": "markdown",
   "id": "32c862ec",
   "metadata": {},
   "source": [
    "# Statistics\n"
   ]
  },
  {
   "cell_type": "code",
   "execution_count": 89,
   "id": "25f2b8f4",
   "metadata": {},
   "outputs": [
    {
     "name": "stdout",
     "output_type": "stream",
     "text": [
      "Mean  5.0\n",
      "Mean column [4. 5. 6.]\n",
      "Mean row [2. 5. 8.]\n"
     ]
    }
   ],
   "source": [
    "d = np.array([[1, 2, 3], [4, 5, 6], [7, 8, 9]])\n",
    "print(\"Mean \",np.mean(d)) # Mean of all elements\n",
    "print(\"Mean column\", np.mean(d, axis=0)) # Mean of each column\n",
    "print(\"Mean row\", np.mean(d, axis=1)) # Mean of each row"
   ]
  },
  {
   "cell_type": "markdown",
   "id": "26aac537",
   "metadata": {},
   "source": [
    "# General utility"
   ]
  },
  {
   "cell_type": "code",
   "execution_count": 92,
   "id": "27d280a8",
   "metadata": {},
   "outputs": [
    {
     "data": {
      "text/plain": [
       "array([[1, 2],\n",
       "       [3, 4],\n",
       "       [6, 7],\n",
       "       [8, 9]])"
      ]
     },
     "execution_count": 92,
     "metadata": {},
     "output_type": "execute_result"
    }
   ],
   "source": [
    "n = np.array([[1, 2, 3, 4], [ 6, 7, 8, 9]])\n",
    "n.reshape(4,2) # Reshape to 2 rows and 4 columns"
   ]
  },
  {
   "cell_type": "code",
   "execution_count": null,
   "id": "220cb94d",
   "metadata": {},
   "outputs": [
    {
     "name": "stdout",
     "output_type": "stream",
     "text": [
      "[[1 2 3]\n",
      " [1 2 3]\n",
      " [1 2 3]\n",
      " [1 2 3]\n",
      " [1 2 3]]\n"
     ]
    }
   ],
   "source": [
    "v1 = np.array([1, 2, 3])\n",
    "np.vstack([v1]*5) # Stack vectors vertically"
   ]
  },
  {
   "cell_type": "code",
   "execution_count": 96,
   "id": "c14089fb",
   "metadata": {},
   "outputs": [],
   "source": [
    "v1 = np.zeros((3, 3))\n",
    "v2 = np.ones((3, 3))\n",
    "v3 = np.hstack([v1,v2])"
   ]
  },
  {
   "cell_type": "markdown",
   "id": "48be3e9f",
   "metadata": {},
   "source": [
    "# Misc"
   ]
  },
  {
   "cell_type": "code",
   "execution_count": 98,
   "id": "05640e24",
   "metadata": {},
   "outputs": [
    {
     "data": {
      "text/plain": [
       "array([[False, False, False,  True,  True,  True],\n",
       "       [False, False, False,  True,  True,  True],\n",
       "       [False, False, False,  True,  True,  True]])"
      ]
     },
     "execution_count": 98,
     "metadata": {},
     "output_type": "execute_result"
    }
   ],
   "source": [
    "v3 > .5"
   ]
  },
  {
   "cell_type": "code",
   "execution_count": 146,
   "id": "cb006a4f",
   "metadata": {},
   "outputs": [
    {
     "data": {
      "text/plain": [
       "array([8, 9, 9, 9, 7])"
      ]
     },
     "execution_count": 146,
     "metadata": {},
     "output_type": "execute_result"
    }
   ],
   "source": [
    "r = np.random.randint(1, 10, size=(3, 3))\n",
    "r > 5\n",
    "r[r > 5]   # Set all elements greater than 5 to 0"
   ]
  }
 ],
 "metadata": {
  "kernelspec": {
   "display_name": "Python 3",
   "language": "python",
   "name": "python3"
  },
  "language_info": {
   "codemirror_mode": {
    "name": "ipython",
    "version": 3
   },
   "file_extension": ".py",
   "mimetype": "text/x-python",
   "name": "python",
   "nbconvert_exporter": "python",
   "pygments_lexer": "ipython3",
   "version": "3.8.10"
  }
 },
 "nbformat": 4,
 "nbformat_minor": 5
}
