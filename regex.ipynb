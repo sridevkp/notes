{
 "cells": [
  {
   "cell_type": "markdown",
   "id": "458345ed",
   "metadata": {},
   "source": [
    "# Regular Expressions in Python\n",
    "\n",
    "This notebook demonstrates how to use Regular Expressions (regex) in Python, starting from the basics and moving toward more advanced usage.\n",
    "\n",
    "We'll use the built-in `re` module."
   ]
  },
  {
   "cell_type": "code",
   "execution_count": 1,
   "id": "d98fa436",
   "metadata": {},
   "outputs": [],
   "source": [
    "import re"
   ]
  },
  {
   "cell_type": "markdown",
   "id": "b3d347ea",
   "metadata": {},
   "source": [
    "## Step 1: Basic Matching\n",
    "Use `re.search()` to find a simple pattern in a string."
   ]
  },
  {
   "cell_type": "code",
   "execution_count": 2,
   "id": "7a351136",
   "metadata": {},
   "outputs": [
    {
     "name": "stdout",
     "output_type": "stream",
     "text": [
      "Found: world\n"
     ]
    }
   ],
   "source": [
    "\n",
    "text = \"Hello world!\"\n",
    "match = re.search(\"world\", text)\n",
    "if match:\n",
    "    print(\"Found:\", match.group())\n",
    "else:\n",
    "    print(\"Not found\")\n"
   ]
  },
  {
   "cell_type": "markdown",
   "id": "d4a8faf3",
   "metadata": {},
   "source": [
    "## Step 2: Metacharacters\n",
    "Characters like `. ^ $ * + ? { } [ ] \\ | ( )` have special meanings in regex."
   ]
  },
  {
   "cell_type": "code",
   "execution_count": 3,
   "id": "40c0ab53",
   "metadata": {},
   "outputs": [
    {
     "name": "stdout",
     "output_type": "stream",
     "text": [
      "Found: $100\n"
     ]
    }
   ],
   "source": [
    "\n",
    "text = \"The price is $100.\"\n",
    "match = re.search(r\"\\$\\d+\", text)\n",
    "if match:\n",
    "    print(\"Found:\", match.group())\n"
   ]
  },
  {
   "cell_type": "markdown",
   "id": "c3eac52f",
   "metadata": {},
   "source": [
    "## Step 3: Character Classes and Ranges\n",
    "`\\d`, `\\w`, `\\s`, and custom ranges like `[a-z]`"
   ]
  },
  {
   "cell_type": "code",
   "execution_count": 4,
   "id": "6b5fc96e",
   "metadata": {},
   "outputs": [
    {
     "name": "stdout",
     "output_type": "stream",
     "text": [
      "['123', '10', '45']\n",
      "['User123', 'logged', 'in', 'at', '10', '45AM']\n"
     ]
    }
   ],
   "source": [
    "\n",
    "text = \"User123 logged in at 10:45AM\"\n",
    "print(re.findall(r\"\\d+\", text))  # all numbers\n",
    "print(re.findall(r\"\\w+\", text))  # all words\n"
   ]
  },
  {
   "cell_type": "markdown",
   "id": "8ee955fd",
   "metadata": {},
   "source": [
    "## Step 4: Anchors\n",
    "`^` matches the start, `$` matches the end of a string."
   ]
  },
  {
   "cell_type": "code",
   "execution_count": 5,
   "id": "b011ec2f",
   "metadata": {},
   "outputs": [
    {
     "name": "stdout",
     "output_type": "stream",
     "text": [
      "<re.Match object; span=(0, 4), match='User'>\n",
      "<re.Match object; span=(4, 7), match='123'>\n"
     ]
    }
   ],
   "source": [
    "\n",
    "print(re.search(r\"^User\", \"User123\"))      # Match at start\n",
    "print(re.search(r\"123$\", \"User123\"))      # Match at end\n"
   ]
  },
  {
   "cell_type": "markdown",
   "id": "ec540f6b",
   "metadata": {},
   "source": [
    "## Step 5: Quantifiers\n",
    "`*`, `+`, `?`, `{n}`, `{n,m}` control how many times a pattern appears."
   ]
  },
  {
   "cell_type": "code",
   "execution_count": 6,
   "id": "07b0a129",
   "metadata": {},
   "outputs": [
    {
     "name": "stdout",
     "output_type": "stream",
     "text": [
      "<re.Match object; span=(4, 7), match='ooo'>\n",
      "<re.Match object; span=(3, 7), match='looo'>\n"
     ]
    }
   ],
   "source": [
    "\n",
    "text = \"hellooo\"\n",
    "print(re.search(r\"o+\", text))     # one or more o's\n",
    "print(re.search(r\"lo{2,3}\", text))  # l followed by 2 or 3 o's\n"
   ]
  },
  {
   "cell_type": "markdown",
   "id": "2f197522",
   "metadata": {},
   "source": [
    "## Step 6: Groups and Capturing\n",
    "Use parentheses `()` to capture parts of the match."
   ]
  },
  {
   "cell_type": "code",
   "execution_count": 7,
   "id": "ea2d8ed7",
   "metadata": {},
   "outputs": [
    {
     "name": "stdout",
     "output_type": "stream",
     "text": [
      "Username: john\n",
      "Domain: example.com\n"
     ]
    }
   ],
   "source": [
    "\n",
    "text = \"John's email is john@example.com\"\n",
    "match = re.search(r\"(\\w+)@(\\w+\\.com)\", text)\n",
    "if match:\n",
    "    print(\"Username:\", match.group(1))\n",
    "    print(\"Domain:\", match.group(2))\n"
   ]
  },
  {
   "cell_type": "markdown",
   "id": "60cc4abc",
   "metadata": {},
   "source": [
    "## Step 7: Substitution\n",
    "Use `re.sub()` to replace patterns."
   ]
  },
  {
   "cell_type": "code",
   "execution_count": null,
   "id": "be56d554",
   "metadata": {},
   "outputs": [],
   "source": [
    "\n",
    "text = \"My number is 123-456-7890\"\n",
    "masked = re.sub(r\"\\d{3}-\\d{2}\", \"***-**\", text)\n",
    "print(masked)\n"
   ]
  },
  {
   "cell_type": "markdown",
   "id": "f07f8336",
   "metadata": {},
   "source": [
    "## Step 8: Using `re.compile()`\n",
    "Compile patterns for reuse and efficiency."
   ]
  },
  {
   "cell_type": "code",
   "execution_count": null,
   "id": "9ef88772",
   "metadata": {},
   "outputs": [],
   "source": [
    "\n",
    "pattern = re.compile(r\"\\b\\w{4}\\b\")\n",
    "text = \"This text has some four letter words like word and test.\"\n",
    "print(pattern.findall(text))\n"
   ]
  }
 ],
 "metadata": {
  "kernelspec": {
   "display_name": "Python 3",
   "language": "python",
   "name": "python3"
  },
  "language_info": {
   "codemirror_mode": {
    "name": "ipython",
    "version": 3
   },
   "file_extension": ".py",
   "mimetype": "text/x-python",
   "name": "python",
   "nbconvert_exporter": "python",
   "pygments_lexer": "ipython3",
   "version": "3.8.10"
  }
 },
 "nbformat": 4,
 "nbformat_minor": 5
}
